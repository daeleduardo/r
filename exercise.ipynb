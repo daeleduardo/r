{
 "cells": [
  {
   "cell_type": "code",
   "execution_count": null,
   "source": [
    "# 1 . Create the object \"myobject\" and assign the values 1:10\n",
    "# in at least 3 different ways\n",
    "myobject <- 1:10\n",
    "myobject\n",
    "myobject <- seq(from = 1, to = 10, by = 1)\n",
    "myobject\n",
    "1:10 -> myobject\n",
    "myobject"
   ],
   "outputs": [],
   "metadata": {}
  },
  {
   "cell_type": "code",
   "execution_count": null,
   "source": [
    "# 2. Get the sum of your object\n",
    "sum(myobject)"
   ],
   "outputs": [],
   "metadata": {}
  },
  {
   "cell_type": "code",
   "execution_count": null,
   "source": [
    "# 3. Create the following vector by using the paste function\n",
    "#\"R is great 4 and I will love it\"\n",
    "#\"R is great 7 and I will love it\"\n",
    "#\"R is great 45 and I will love it\"\n",
    "\n",
    "paste(\"R is great\", c(4, 7, 45), \"and I will love it\")"
   ],
   "outputs": [],
   "metadata": {}
  },
  {
   "cell_type": "code",
   "execution_count": null,
   "source": [
    "# 4. vector of 1,2,3 :\n",
    "# repeat the vector to get 11 x 1, 10 x 2, and 10 x 3\n",
    "\n",
    "x <- rep(1:3, length = 31); x"
   ],
   "outputs": [],
   "metadata": {}
  },
  {
   "cell_type": "code",
   "execution_count": null,
   "source": [
    "#5. What is the value of this vector on position 7\n",
    "\n",
    "x[7]"
   ],
   "outputs": [],
   "metadata": {}
  },
  {
   "cell_type": "code",
   "execution_count": null,
   "source": [
    "# 1. get familiar with \"rivers\" - how many observations?\n",
    "# 2. plot rivers against its index (hint: number of observation on x)\n",
    "# 3. add: header (red), label names\n",
    "# 4. change the point symbol and point color\n",
    "\n",
    "?rivers\n",
    "\n",
    "x <- 1:141\n",
    "y <- rivers\n",
    "\n",
    "par(mfrow = c(1, 1))\n",
    "plot(x,\n",
    "    y,\n",
    "    col = \"green\",\n",
    "    pch = 20,\n",
    "    xlab = \"\",\n",
    "    ylab = \"length miles\",\n",
    "    main = \"Lengths of\\nMajor N. American Rivers\",\n",
    "    col.main = \"red\"\n",
    "    )"
   ],
   "outputs": [],
   "metadata": {}
  },
  {
   "cell_type": "code",
   "execution_count": null,
   "source": [
    "#BONUS normal distribution\n",
    "\n",
    "library('ggplot2')\n",
    "\n",
    "#?diamonds\n",
    "\n",
    "#summary(diamonds)\n",
    "\n",
    "qqnorm(diamonds$depth, col = \"blue\")\n",
    "qqline(diamonds$depth, col = \"red\")\n",
    "\n",
    "d <- sample(diamonds$depth, 5000)\n",
    "\n",
    "shapiro.test(d)\n",
    "\n",
    "hist(d, xlab = \"Diamonds Depth\", main = \"\")\n",
    "\n",
    "library(nortest)\n",
    "\n",
    "cvm.test(d)\n",
    "\n",
    "lillie.test(d)\n",
    "\n",
    "sf.test(d)\n",
    "\n",
    "pearson.test(d)"
   ],
   "outputs": [],
   "metadata": {}
  }
 ],
 "metadata": {
  "orig_nbformat": 4,
  "language_info": {
   "name": "R",
   "codemirror_mode": "r",
   "pygments_lexer": "r",
   "mimetype": "text/x-r-source",
   "file_extension": ".r",
   "version": "3.6.3"
  },
  "kernelspec": {
   "name": "ir",
   "display_name": "R",
   "language": "R"
  },
  "interpreter": {
   "hash": "31f2aee4e71d21fbe5cf8b01ff0e069b9275f58929596ceb00d14d90e3e16cd6"
  }
 },
 "nbformat": 4,
 "nbformat_minor": 2
}